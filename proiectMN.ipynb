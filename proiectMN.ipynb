{
  "nbformat": 4,
  "nbformat_minor": 0,
  "metadata": {
    "colab": {
      "provenance": []
    },
    "kernelspec": {
      "name": "python3",
      "display_name": "Python 3"
    },
    "language_info": {
      "name": "python"
    }
  },
  "cells": [
    {
      "cell_type": "markdown",
      "source": [
        "Aplicatie pentru prezicerea golurilor date de un atacant intr-un an\n",
        "\n",
        "Pentru inceput, avem un set de date cu mai multe statici ale diferitor jucatori de tip (numar de ani jucati; goluri marcate)"
      ],
      "metadata": {
        "id": "lpEdtWkkIsed"
      }
    },
    {
      "cell_type": "code",
      "source": [
        "import numpy as np\n",
        "import matplotlib.pyplot as plt\n",
        "import pandas as pd\n",
        "\n",
        "dataset = pd.read_csv('performanceData.csv')\n",
        "X = dataset.iloc[:, :-1].values\n",
        "y = dataset.iloc[:, 1].values\n",
        "\n",
        "print(\"<------------Vectorul pentru ani----------->\")\n",
        "print(X)\n",
        "\n",
        "print(\"<------------Vectorul pentru goluri----------->\")\n",
        "print(y)"
      ],
      "metadata": {
        "id": "_mIKLWN8JFTv"
      },
      "execution_count": null,
      "outputs": []
    },
    {
      "cell_type": "markdown",
      "source": [
        "Acum, formula noastra arata in felul urmator:\n",
        "\n",
        "y = a+b*X\n",
        "\n",
        "Stim y si X, iar acum trebuie sa aflam a si b\n",
        "\n",
        "Vom incepe cu b, care se calculeaza dupa formula:\n",
        "\n",
        "![WhatsApp Image 2023-01-11 at 21.00.01.jpeg](data:image/jpeg;base64,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)\n",
        "\n"
      ],
      "metadata": {
        "id": "WiqsEbRQKvfd"
      }
    },
    {
      "cell_type": "code",
      "source": [
        "from numpy.core.fromnumeric import size\n",
        "#Calculam media valorilor lui X, respectiv y\n",
        "Xmediu = 0\n",
        "ymediu = 0\n",
        "size = X.size\n",
        "for i in range(size):\n",
        "  Xmediu = Xmediu + X[i]\n",
        "  ymediu = ymediu + y[i]\n",
        "Xmediu = Xmediu/size\n",
        "ymediu = ymediu/size\n",
        "\n",
        "sumaNumarator = 0\n",
        "sumaNumitor = 0\n",
        "for i in range(size):\n",
        "  sumaNumarator += (X[i]-Xmediu)*(y[i]-ymediu)\n",
        "  sumaNumitor += (X[i]-Xmediu)*(X[i]-Xmediu)\n",
        "\n",
        "b = sumaNumarator/sumaNumitor\n",
        "print(b)\n",
        "\n"
      ],
      "metadata": {
        "colab": {
          "base_uri": "https://localhost:8080/"
        },
        "id": "xqQEBFwiLCfd",
        "outputId": "96cf1eba-fdbf-47e4-b395-2f4aedac4648"
      },
      "execution_count": 17,
      "outputs": [
        {
          "output_type": "stream",
          "name": "stdout",
          "text": [
            "[36.65031878]\n"
          ]
        }
      ]
    },
    {
      "cell_type": "markdown",
      "source": [
        "Calculul lui a este mult mai simplu. Vom transforma formula y=a+b*X in \n",
        "\n",
        "ymediu = a + b*Xmediu\n",
        "\n",
        "De aici, deducem ca \n",
        "\n",
        "a = ymediu - b*Xmediu\n"
      ],
      "metadata": {
        "id": "GVNS7qhgOB3W"
      }
    },
    {
      "cell_type": "code",
      "source": [
        "a = ymediu - b*Xmediu\n",
        "print(a)"
      ],
      "metadata": {
        "colab": {
          "base_uri": "https://localhost:8080/"
        },
        "id": "kati6tn3OfT9",
        "outputId": "d35c531e-3c65-4f28-a1e2-c2f17be5feca"
      },
      "execution_count": 39,
      "outputs": [
        {
          "output_type": "stream",
          "name": "stdout",
          "text": [
            "[-17.19372241]\n"
          ]
        }
      ]
    },
    {
      "cell_type": "markdown",
      "source": [
        "Am aflat toate variabilele, deci formula finala este: \n",
        "\n",
        "y = 17.19372241 + 36.65031878 * Xmediu\n",
        "\n",
        "Acum putem trasa graficul functiei de predictie"
      ],
      "metadata": {
        "id": "KaxOa6d1Oq8W"
      }
    },
    {
      "cell_type": "code",
      "source": [
        "plt.scatter(X, y, color = 'red')\n",
        "functieFinala = -17.19372241 + 36.65031878 * X\n",
        "plt.plot(X, functieFinala, color = 'blue')\n",
        "plt.show()"
      ],
      "metadata": {
        "colab": {
          "base_uri": "https://localhost:8080/",
          "height": 265
        },
        "id": "oD3NTjKbPBZU",
        "outputId": "62358b32-c64b-4219-b054-fdfeae94f85f"
      },
      "execution_count": 40,
      "outputs": [
        {
          "output_type": "display_data",
          "data": {
            "text/plain": [
              "<Figure size 432x288 with 1 Axes>"
            ],
            "image/png": "[encoded data removed]"
          },
          "metadata": {
            "needs_background": "light"
          }
        }
      ]
    },
    {
      "cell_type": "markdown",
      "source": [
        "Cu ajutorul acestei functii putem observa cate goluri ar trebui sa dea un jucator peste mai multi ani decat am adaugat noi in setul de date. \n",
        "\n",
        "De exemplu, putem vedea cate goluri ar trebui sa dea un jucator in 8 ani.\n",
        "\n",
        "Realizam acest lucru prin a-i aloca lui X valoarea 8"
      ],
      "metadata": {
        "id": "XInbx6vKSW9E"
      }
    },
    {
      "cell_type": "code",
      "source": [
        "predictie = -17.19372241 + 36.65031878 * 8\n",
        "\n",
        "print(\"In 8 ani, un jucator de top ar trebui sa marcheze\",predictie, \"goluri in 8 ani\")\n"
      ],
      "metadata": {
        "colab": {
          "base_uri": "https://localhost:8080/"
        },
        "id": "RtPOnOg5SsBw",
        "outputId": "8d783ce9-c4ec-437c-e798-6eaa2b88322d"
      },
      "execution_count": 43,
      "outputs": [
        {
          "output_type": "stream",
          "name": "stdout",
          "text": [
            "In 8 ani, un jucator de top ar trebui sa marcheze 276.00882783 goluri in 8 ani\n"
          ]
        }
      ]
    },
    {
      "cell_type": "markdown",
      "source": [],
      "metadata": {
        "id": "3JXCQVpRTZOC"
      }
    }
  ]
}